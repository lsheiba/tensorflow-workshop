{
 "cells": [
  {
   "cell_type": "markdown",
   "metadata": {},
   "source": [
    "# Wide and Deep on TensorFlow (notebook style)"
   ]
  },
  {
   "cell_type": "markdown",
   "metadata": {},
   "source": [
    "Copyright 2016 Google Inc. All Rights Reserved. Licensed under the Apache License, Version 2.0 (the \"License\"); you may not use this file except in compliance with the License. You may obtain a copy of the License at\n",
    " http://www.apache.org/licenses/LICENSE-2.0\n",
    "\n",
    "Unless required by applicable law or agreed to in writing, software distributed under the License is distributed on an \"AS IS\" BASIS, WITHOUT WARRANTIES OR CONDITIONS OF ANY KIND, either express or implied. See the License for the specific language governing permissions and limitations under the License."
   ]
  },
  {
   "cell_type": "markdown",
   "metadata": {},
   "source": [
    "# Introduction\n",
    "\n",
    "This notebook uses the tf.learn API in TensorFlow to answer a yes/no question. This is called a binary classification problem: Given census data about a person such as age, gender, education and occupation (the features), we will try to predict whether or not the person earns more than 50,000 dollars a year (the target label). \n",
    "\n",
    "Given an individual's information our model will output a number between 0 and 1, which can be interpreted as the model's certainty that the individual has an annual income of over 50,000 dollars, (1=True, 0=False)\n"
   ]
  },
  {
   "cell_type": "markdown",
   "metadata": {},
   "source": [
    "# Imports and constants\n",
    "First we'll import our libraries and set up some strings for column names. We also print out the version of TensorFlow we are running."
   ]
  },
  {
   "cell_type": "code",
   "execution_count": 1,
   "metadata": {},
   "outputs": [
    {
     "name": "stdout",
     "output_type": "stream",
     "text": [
      "Using TensorFlow version 1.2.0\n"
     ]
    }
   ],
   "source": [
    "from __future__ import absolute_import\n",
    "from __future__ import division\n",
    "from __future__ import print_function\n",
    "\n",
    "import time\n",
    "\n",
    "import numpy as np\n",
    "import tensorflow as tf\n",
    "\n",
    "tf.logging.set_verbosity(tf.logging.ERROR) \n",
    "# Set to INFO for tracking training, default is WARN \n",
    "\n",
    "print(\"Using TensorFlow version %s\" % (tf.__version__))\n",
    "\n",
    "CATEGORICAL_COLUMNS = [\"workclass\", \"education\", \n",
    "                       \"marital_status\", \"occupation\", \n",
    "                       \"relationship\", \"race\", \n",
    "                       \"gender\", \"native_country\"]\n",
    "\n",
    "# Columns of the input csv file\n",
    "COLUMNS = [\"age\", \"workclass\", \"fnlwgt\", \"education\", \n",
    "           \"education_num\", \"marital_status\",\n",
    "           \"occupation\", \"relationship\", \"race\", \n",
    "           \"gender\", \"capital_gain\", \"capital_loss\",\n",
    "           \"hours_per_week\", \"native_country\", \"income_bracket\"]\n",
    "\n",
    "# Feature columns for input into the model\n",
    "FEATURE_COLUMNS = [\"age\", \"workclass\", \"education\", \n",
    "                   \"education_num\", \"marital_status\",\n",
    "                   \"occupation\", \"relationship\", \"race\", \n",
    "                   \"gender\", \"capital_gain\", \"capital_loss\",\n",
    "                   \"hours_per_week\", \"native_country\"]"
   ]
  },
  {
   "cell_type": "markdown",
   "metadata": {},
   "source": [
    "# Pandas data exploration\n",
    "We load the data into pandas because it is small enough to manage in memory, and look at some properties."
   ]
  },
  {
   "cell_type": "code",
   "execution_count": 2,
   "metadata": {
    "collapsed": true
   },
   "outputs": [],
   "source": [
    "import pandas as pd\n",
    "\n",
    "df = pd.read_csv(\"adult.data.csv\", header=None, names=COLUMNS)"
   ]
  },
  {
   "cell_type": "code",
   "execution_count": 16,
   "metadata": {},
   "outputs": [
    {
     "data": {
      "text/html": [
       "<div>\n",
       "<style>\n",
       "    .dataframe thead tr:only-child th {\n",
       "        text-align: right;\n",
       "    }\n",
       "\n",
       "    .dataframe thead th {\n",
       "        text-align: left;\n",
       "    }\n",
       "\n",
       "    .dataframe tbody tr th {\n",
       "        vertical-align: top;\n",
       "    }\n",
       "</style>\n",
       "<table border=\"1\" class=\"dataframe\">\n",
       "  <thead>\n",
       "    <tr style=\"text-align: right;\">\n",
       "      <th></th>\n",
       "      <th>age</th>\n",
       "      <th>workclass</th>\n",
       "      <th>fnlwgt</th>\n",
       "      <th>education</th>\n",
       "      <th>education_num</th>\n",
       "      <th>marital_status</th>\n",
       "      <th>occupation</th>\n",
       "      <th>relationship</th>\n",
       "      <th>race</th>\n",
       "      <th>gender</th>\n",
       "      <th>capital_gain</th>\n",
       "      <th>capital_loss</th>\n",
       "      <th>hours_per_week</th>\n",
       "      <th>native_country</th>\n",
       "      <th>income_bracket</th>\n",
       "    </tr>\n",
       "  </thead>\n",
       "  <tbody>\n",
       "    <tr>\n",
       "      <th>0</th>\n",
       "      <td>39</td>\n",
       "      <td>State-gov</td>\n",
       "      <td>77516</td>\n",
       "      <td>Bachelors</td>\n",
       "      <td>13</td>\n",
       "      <td>Never-married</td>\n",
       "      <td>Adm-clerical</td>\n",
       "      <td>Not-in-family</td>\n",
       "      <td>White</td>\n",
       "      <td>Male</td>\n",
       "      <td>2174</td>\n",
       "      <td>0</td>\n",
       "      <td>40</td>\n",
       "      <td>United-States</td>\n",
       "      <td>&lt;=50K</td>\n",
       "    </tr>\n",
       "    <tr>\n",
       "      <th>1</th>\n",
       "      <td>50</td>\n",
       "      <td>Self-emp-not-inc</td>\n",
       "      <td>83311</td>\n",
       "      <td>Bachelors</td>\n",
       "      <td>13</td>\n",
       "      <td>Married-civ-spouse</td>\n",
       "      <td>Exec-managerial</td>\n",
       "      <td>Husband</td>\n",
       "      <td>White</td>\n",
       "      <td>Male</td>\n",
       "      <td>0</td>\n",
       "      <td>0</td>\n",
       "      <td>13</td>\n",
       "      <td>United-States</td>\n",
       "      <td>&lt;=50K</td>\n",
       "    </tr>\n",
       "    <tr>\n",
       "      <th>2</th>\n",
       "      <td>38</td>\n",
       "      <td>Private</td>\n",
       "      <td>215646</td>\n",
       "      <td>HS-grad</td>\n",
       "      <td>9</td>\n",
       "      <td>Divorced</td>\n",
       "      <td>Handlers-cleaners</td>\n",
       "      <td>Not-in-family</td>\n",
       "      <td>White</td>\n",
       "      <td>Male</td>\n",
       "      <td>0</td>\n",
       "      <td>0</td>\n",
       "      <td>40</td>\n",
       "      <td>United-States</td>\n",
       "      <td>&lt;=50K</td>\n",
       "    </tr>\n",
       "    <tr>\n",
       "      <th>3</th>\n",
       "      <td>53</td>\n",
       "      <td>Private</td>\n",
       "      <td>234721</td>\n",
       "      <td>11th</td>\n",
       "      <td>7</td>\n",
       "      <td>Married-civ-spouse</td>\n",
       "      <td>Handlers-cleaners</td>\n",
       "      <td>Husband</td>\n",
       "      <td>Black</td>\n",
       "      <td>Male</td>\n",
       "      <td>0</td>\n",
       "      <td>0</td>\n",
       "      <td>40</td>\n",
       "      <td>United-States</td>\n",
       "      <td>&lt;=50K</td>\n",
       "    </tr>\n",
       "    <tr>\n",
       "      <th>4</th>\n",
       "      <td>28</td>\n",
       "      <td>Private</td>\n",
       "      <td>338409</td>\n",
       "      <td>Bachelors</td>\n",
       "      <td>13</td>\n",
       "      <td>Married-civ-spouse</td>\n",
       "      <td>Prof-specialty</td>\n",
       "      <td>Wife</td>\n",
       "      <td>Black</td>\n",
       "      <td>Female</td>\n",
       "      <td>0</td>\n",
       "      <td>0</td>\n",
       "      <td>40</td>\n",
       "      <td>Cuba</td>\n",
       "      <td>&lt;=50K</td>\n",
       "    </tr>\n",
       "  </tbody>\n",
       "</table>\n",
       "</div>"
      ],
      "text/plain": [
       "   age          workclass  fnlwgt   education  education_num  \\\n",
       "0   39          State-gov   77516   Bachelors             13   \n",
       "1   50   Self-emp-not-inc   83311   Bachelors             13   \n",
       "2   38            Private  215646     HS-grad              9   \n",
       "3   53            Private  234721        11th              7   \n",
       "4   28            Private  338409   Bachelors             13   \n",
       "\n",
       "        marital_status          occupation    relationship    race   gender  \\\n",
       "0        Never-married        Adm-clerical   Not-in-family   White     Male   \n",
       "1   Married-civ-spouse     Exec-managerial         Husband   White     Male   \n",
       "2             Divorced   Handlers-cleaners   Not-in-family   White     Male   \n",
       "3   Married-civ-spouse   Handlers-cleaners         Husband   Black     Male   \n",
       "4   Married-civ-spouse      Prof-specialty            Wife   Black   Female   \n",
       "\n",
       "   capital_gain  capital_loss  hours_per_week  native_country income_bracket  \n",
       "0          2174             0              40   United-States          <=50K  \n",
       "1             0             0              13   United-States          <=50K  \n",
       "2             0             0              40   United-States          <=50K  \n",
       "3             0             0              40   United-States          <=50K  \n",
       "4             0             0              40            Cuba          <=50K  "
      ]
     },
     "execution_count": 16,
     "metadata": {},
     "output_type": "execute_result"
    }
   ],
   "source": [
    "df.head()"
   ]
  },
  {
   "cell_type": "code",
   "execution_count": 4,
   "metadata": {},
   "outputs": [
    {
     "data": {
      "text/html": [
       "<div>\n",
       "<style>\n",
       "    .dataframe thead tr:only-child th {\n",
       "        text-align: right;\n",
       "    }\n",
       "\n",
       "    .dataframe thead th {\n",
       "        text-align: left;\n",
       "    }\n",
       "\n",
       "    .dataframe tbody tr th {\n",
       "        vertical-align: top;\n",
       "    }\n",
       "</style>\n",
       "<table border=\"1\" class=\"dataframe\">\n",
       "  <thead>\n",
       "    <tr style=\"text-align: right;\">\n",
       "      <th></th>\n",
       "      <th>age</th>\n",
       "      <th>fnlwgt</th>\n",
       "      <th>education_num</th>\n",
       "      <th>capital_gain</th>\n",
       "      <th>capital_loss</th>\n",
       "      <th>hours_per_week</th>\n",
       "    </tr>\n",
       "  </thead>\n",
       "  <tbody>\n",
       "    <tr>\n",
       "      <th>count</th>\n",
       "      <td>32561.000000</td>\n",
       "      <td>3.256100e+04</td>\n",
       "      <td>32561.000000</td>\n",
       "      <td>32561.000000</td>\n",
       "      <td>32561.000000</td>\n",
       "      <td>32561.000000</td>\n",
       "    </tr>\n",
       "    <tr>\n",
       "      <th>mean</th>\n",
       "      <td>38.581647</td>\n",
       "      <td>1.897784e+05</td>\n",
       "      <td>10.080679</td>\n",
       "      <td>1077.648844</td>\n",
       "      <td>87.303830</td>\n",
       "      <td>40.437456</td>\n",
       "    </tr>\n",
       "    <tr>\n",
       "      <th>std</th>\n",
       "      <td>13.640433</td>\n",
       "      <td>1.055500e+05</td>\n",
       "      <td>2.572720</td>\n",
       "      <td>7385.292085</td>\n",
       "      <td>402.960219</td>\n",
       "      <td>12.347429</td>\n",
       "    </tr>\n",
       "    <tr>\n",
       "      <th>min</th>\n",
       "      <td>17.000000</td>\n",
       "      <td>1.228500e+04</td>\n",
       "      <td>1.000000</td>\n",
       "      <td>0.000000</td>\n",
       "      <td>0.000000</td>\n",
       "      <td>1.000000</td>\n",
       "    </tr>\n",
       "    <tr>\n",
       "      <th>25%</th>\n",
       "      <td>28.000000</td>\n",
       "      <td>1.178270e+05</td>\n",
       "      <td>9.000000</td>\n",
       "      <td>0.000000</td>\n",
       "      <td>0.000000</td>\n",
       "      <td>40.000000</td>\n",
       "    </tr>\n",
       "    <tr>\n",
       "      <th>50%</th>\n",
       "      <td>37.000000</td>\n",
       "      <td>1.783560e+05</td>\n",
       "      <td>10.000000</td>\n",
       "      <td>0.000000</td>\n",
       "      <td>0.000000</td>\n",
       "      <td>40.000000</td>\n",
       "    </tr>\n",
       "    <tr>\n",
       "      <th>75%</th>\n",
       "      <td>48.000000</td>\n",
       "      <td>2.370510e+05</td>\n",
       "      <td>12.000000</td>\n",
       "      <td>0.000000</td>\n",
       "      <td>0.000000</td>\n",
       "      <td>45.000000</td>\n",
       "    </tr>\n",
       "    <tr>\n",
       "      <th>max</th>\n",
       "      <td>90.000000</td>\n",
       "      <td>1.484705e+06</td>\n",
       "      <td>16.000000</td>\n",
       "      <td>99999.000000</td>\n",
       "      <td>4356.000000</td>\n",
       "      <td>99.000000</td>\n",
       "    </tr>\n",
       "  </tbody>\n",
       "</table>\n",
       "</div>"
      ],
      "text/plain": [
       "                age        fnlwgt  education_num  capital_gain  capital_loss  \\\n",
       "count  32561.000000  3.256100e+04   32561.000000  32561.000000  32561.000000   \n",
       "mean      38.581647  1.897784e+05      10.080679   1077.648844     87.303830   \n",
       "std       13.640433  1.055500e+05       2.572720   7385.292085    402.960219   \n",
       "min       17.000000  1.228500e+04       1.000000      0.000000      0.000000   \n",
       "25%       28.000000  1.178270e+05       9.000000      0.000000      0.000000   \n",
       "50%       37.000000  1.783560e+05      10.000000      0.000000      0.000000   \n",
       "75%       48.000000  2.370510e+05      12.000000      0.000000      0.000000   \n",
       "max       90.000000  1.484705e+06      16.000000  99999.000000   4356.000000   \n",
       "\n",
       "       hours_per_week  \n",
       "count    32561.000000  \n",
       "mean        40.437456  \n",
       "std         12.347429  \n",
       "min          1.000000  \n",
       "25%         40.000000  \n",
       "50%         40.000000  \n",
       "75%         45.000000  \n",
       "max         99.000000  "
      ]
     },
     "execution_count": 4,
     "metadata": {},
     "output_type": "execute_result"
    }
   ],
   "source": [
    "df.describe(include=[np.number])"
   ]
  },
  {
   "cell_type": "code",
   "execution_count": 5,
   "metadata": {},
   "outputs": [
    {
     "data": {
      "text/html": [
       "<div>\n",
       "<style>\n",
       "    .dataframe thead tr:only-child th {\n",
       "        text-align: right;\n",
       "    }\n",
       "\n",
       "    .dataframe thead th {\n",
       "        text-align: left;\n",
       "    }\n",
       "\n",
       "    .dataframe tbody tr th {\n",
       "        vertical-align: top;\n",
       "    }\n",
       "</style>\n",
       "<table border=\"1\" class=\"dataframe\">\n",
       "  <thead>\n",
       "    <tr style=\"text-align: right;\">\n",
       "      <th></th>\n",
       "      <th>workclass</th>\n",
       "      <th>education</th>\n",
       "      <th>marital_status</th>\n",
       "      <th>occupation</th>\n",
       "      <th>relationship</th>\n",
       "      <th>race</th>\n",
       "      <th>gender</th>\n",
       "      <th>native_country</th>\n",
       "      <th>income_bracket</th>\n",
       "    </tr>\n",
       "  </thead>\n",
       "  <tbody>\n",
       "    <tr>\n",
       "      <th>count</th>\n",
       "      <td>32561</td>\n",
       "      <td>32561</td>\n",
       "      <td>32561</td>\n",
       "      <td>32561</td>\n",
       "      <td>32561</td>\n",
       "      <td>32561</td>\n",
       "      <td>32561</td>\n",
       "      <td>32561</td>\n",
       "      <td>32561</td>\n",
       "    </tr>\n",
       "    <tr>\n",
       "      <th>unique</th>\n",
       "      <td>9</td>\n",
       "      <td>16</td>\n",
       "      <td>7</td>\n",
       "      <td>15</td>\n",
       "      <td>6</td>\n",
       "      <td>5</td>\n",
       "      <td>2</td>\n",
       "      <td>42</td>\n",
       "      <td>2</td>\n",
       "    </tr>\n",
       "    <tr>\n",
       "      <th>top</th>\n",
       "      <td>Private</td>\n",
       "      <td>HS-grad</td>\n",
       "      <td>Married-civ-spouse</td>\n",
       "      <td>Prof-specialty</td>\n",
       "      <td>Husband</td>\n",
       "      <td>White</td>\n",
       "      <td>Male</td>\n",
       "      <td>United-States</td>\n",
       "      <td>&lt;=50K</td>\n",
       "    </tr>\n",
       "    <tr>\n",
       "      <th>freq</th>\n",
       "      <td>22696</td>\n",
       "      <td>10501</td>\n",
       "      <td>14976</td>\n",
       "      <td>4140</td>\n",
       "      <td>13193</td>\n",
       "      <td>27816</td>\n",
       "      <td>21790</td>\n",
       "      <td>29170</td>\n",
       "      <td>24720</td>\n",
       "    </tr>\n",
       "  </tbody>\n",
       "</table>\n",
       "</div>"
      ],
      "text/plain": [
       "       workclass education       marital_status       occupation relationship  \\\n",
       "count      32561     32561                32561            32561        32561   \n",
       "unique         9        16                    7               15            6   \n",
       "top      Private   HS-grad   Married-civ-spouse   Prof-specialty      Husband   \n",
       "freq       22696     10501                14976             4140        13193   \n",
       "\n",
       "          race gender  native_country income_bracket  \n",
       "count    32561  32561           32561          32561  \n",
       "unique       5      2              42              2  \n",
       "top      White   Male   United-States          <=50K  \n",
       "freq     27816  21790           29170          24720  "
      ]
     },
     "execution_count": 5,
     "metadata": {},
     "output_type": "execute_result"
    }
   ],
   "source": [
    "df.describe(include=[np.object])"
   ]
  },
  {
   "cell_type": "code",
   "execution_count": 5,
   "metadata": {},
   "outputs": [
    {
     "data": {
      "text/html": [
       "<div>\n",
       "<style>\n",
       "    .dataframe thead tr:only-child th {\n",
       "        text-align: right;\n",
       "    }\n",
       "\n",
       "    .dataframe thead th {\n",
       "        text-align: left;\n",
       "    }\n",
       "\n",
       "    .dataframe tbody tr th {\n",
       "        vertical-align: top;\n",
       "    }\n",
       "</style>\n",
       "<table border=\"1\" class=\"dataframe\">\n",
       "  <thead>\n",
       "    <tr style=\"text-align: right;\">\n",
       "      <th></th>\n",
       "      <th>age</th>\n",
       "      <th>fnlwgt</th>\n",
       "      <th>education_num</th>\n",
       "      <th>capital_gain</th>\n",
       "      <th>capital_loss</th>\n",
       "      <th>hours_per_week</th>\n",
       "    </tr>\n",
       "  </thead>\n",
       "  <tbody>\n",
       "    <tr>\n",
       "      <th>age</th>\n",
       "      <td>1.000000</td>\n",
       "      <td>-0.076646</td>\n",
       "      <td>0.036527</td>\n",
       "      <td>0.077674</td>\n",
       "      <td>0.057775</td>\n",
       "      <td>0.068756</td>\n",
       "    </tr>\n",
       "    <tr>\n",
       "      <th>fnlwgt</th>\n",
       "      <td>-0.076646</td>\n",
       "      <td>1.000000</td>\n",
       "      <td>-0.043195</td>\n",
       "      <td>0.000432</td>\n",
       "      <td>-0.010252</td>\n",
       "      <td>-0.018768</td>\n",
       "    </tr>\n",
       "    <tr>\n",
       "      <th>education_num</th>\n",
       "      <td>0.036527</td>\n",
       "      <td>-0.043195</td>\n",
       "      <td>1.000000</td>\n",
       "      <td>0.122630</td>\n",
       "      <td>0.079923</td>\n",
       "      <td>0.148123</td>\n",
       "    </tr>\n",
       "    <tr>\n",
       "      <th>capital_gain</th>\n",
       "      <td>0.077674</td>\n",
       "      <td>0.000432</td>\n",
       "      <td>0.122630</td>\n",
       "      <td>1.000000</td>\n",
       "      <td>-0.031615</td>\n",
       "      <td>0.078409</td>\n",
       "    </tr>\n",
       "    <tr>\n",
       "      <th>capital_loss</th>\n",
       "      <td>0.057775</td>\n",
       "      <td>-0.010252</td>\n",
       "      <td>0.079923</td>\n",
       "      <td>-0.031615</td>\n",
       "      <td>1.000000</td>\n",
       "      <td>0.054256</td>\n",
       "    </tr>\n",
       "    <tr>\n",
       "      <th>hours_per_week</th>\n",
       "      <td>0.068756</td>\n",
       "      <td>-0.018768</td>\n",
       "      <td>0.148123</td>\n",
       "      <td>0.078409</td>\n",
       "      <td>0.054256</td>\n",
       "      <td>1.000000</td>\n",
       "    </tr>\n",
       "  </tbody>\n",
       "</table>\n",
       "</div>"
      ],
      "text/plain": [
       "                     age    fnlwgt  education_num  capital_gain  capital_loss  \\\n",
       "age             1.000000 -0.076646       0.036527      0.077674      0.057775   \n",
       "fnlwgt         -0.076646  1.000000      -0.043195      0.000432     -0.010252   \n",
       "education_num   0.036527 -0.043195       1.000000      0.122630      0.079923   \n",
       "capital_gain    0.077674  0.000432       0.122630      1.000000     -0.031615   \n",
       "capital_loss    0.057775 -0.010252       0.079923     -0.031615      1.000000   \n",
       "hours_per_week  0.068756 -0.018768       0.148123      0.078409      0.054256   \n",
       "\n",
       "                hours_per_week  \n",
       "age                   0.068756  \n",
       "fnlwgt               -0.018768  \n",
       "education_num         0.148123  \n",
       "capital_gain          0.078409  \n",
       "capital_loss          0.054256  \n",
       "hours_per_week        1.000000  "
      ]
     },
     "execution_count": 5,
     "metadata": {},
     "output_type": "execute_result"
    }
   ],
   "source": [
    "df.corr()"
   ]
  },
  {
   "cell_type": "markdown",
   "metadata": {},
   "source": [
    "# Input file parsing\n",
    "\n",
    "This section puts the file into a `Reader` which reads from the file one batch at a time. \n",
    "\n",
    "We set up the Tensors to be a dictionary of features mapping from their string name to the tensor value.\n",
    "\n",
    "Note that the `_input_fn()` function is wrapped, enabling it to be used for different files.\n",
    "\n",
    "NOTE: This reads from the input file directly via TensorFlow, rather than using an intermediate tool such as pandas to load the entire dataset into memory first. This is done to enable the system to scale to large inputs."
   ]
  },
  {
   "cell_type": "markdown",
   "metadata": {},
   "source": [
    "## More about input functions\n",
    "\n",
    "The input function is how we will feed the input data into the model during training and evaluation. \n",
    "The structure that must be returned is a pair, where the first element is a dict of the column names (features) mapped to a tensor of values, and the 2nd element is a tensor of values representing the answers (labels). Recall that a tensor is just a general term for an n-dimensional array.\n",
    "\n",
    "This could be represented as: `map(column_name => [Tensor of values]) , [Tensor of labels])`\n",
    "\n",
    "More concretely, for this particular dataset, something like this:\n",
    "\n",
    "    { \n",
    "      'age':            [ 39, 50, 38, 53, 28, … ], \n",
    "      'marital_status': [ 'Married-civ-spouse', 'Never-married', 'Widowed', 'Widowed' … ],\n",
    "       ...\n",
    "      'gender':           ['Male', 'Female', 'Male', 'Male', 'Female',, … ], \n",
    "    } , \n",
    "    [ 1, 1, 0, 1, 1, 1, 0, 0, 0, 0, 1, 1]\n",
    "    \n",
    "Additionally, we define which columns of the input data we will treat as categorical vs continuous, using the global `CATEGORICAL_COLUMNS`.\n",
    "\n",
    "You can try different values for `BATCH_SIZE` to see how they impact your results"
   ]
  },
  {
   "cell_type": "code",
   "execution_count": 19,
   "metadata": {},
   "outputs": [
    {
     "name": "stdout",
     "output_type": "stream",
     "text": [
      "input function configured\n"
     ]
    }
   ],
   "source": [
    "BATCH_SIZE = 40\n",
    "\n",
    "def generate_input_fn(filename, batch_size=BATCH_SIZE):\n",
    "    def _input_fn():\n",
    "        filename_queue = tf.train.string_input_producer([filename])\n",
    "        reader = tf.TextLineReader()\n",
    "        # Reads out batch_size number of lines\n",
    "        key, rows = reader.read_up_to(filename_queue, \n",
    "                                       num_records=batch_size)\n",
    "\n",
    "        # record_defaults should match the datatypes of each respective column.\n",
    "        record_defaults = [[0], [\" \"], [0], [\" \"], [0],\n",
    "                           [\" \"], [\" \"], [\" \"], [\" \"], [\" \"],\n",
    "                           [0], [0], [0], [\" \"], [\" \"]]\n",
    "\n",
    "#         rows = tf.Print(rows, [tf.shape(rows)], 'rows before expanding')\n",
    "\n",
    "        # changes from shape = [Batch_size] to shape = [Batch_size, 1]\n",
    "        rows = tf.expand_dims(rows, axis=-1)\n",
    "#         rows = rows[:, np.newaxis]\n",
    "\n",
    "#         rows = tf.Print(rows, [tf.shape(rows)], 'rows after expanding')\n",
    "        \n",
    "        # Decode CSV data that was just read out. \n",
    "        columns = tf.decode_csv(\n",
    "            rows, record_defaults=record_defaults)\n",
    "\n",
    "        # features is a dictionary that maps from column names to tensors of the data.\n",
    "        # income_bracket is the last column of the data. Note that this is NOT a dict.\n",
    "        all_columns = dict(zip(COLUMNS, columns))\n",
    "        \n",
    "        # Save the income_bracket column as our labels \n",
    "        # dict.pop() returns the popped array of income_bracket values\n",
    "        income_bracket = all_columns.pop('income_bracket')\n",
    "\n",
    "        # remove the fnlwgt key, which is not used\n",
    "        all_columns.pop('fnlwgt', 'fnlwgt key not found')\n",
    "\n",
    "        # the remaining columns are our features\n",
    "        features = all_columns\n",
    "\n",
    "        # Convert \">50K\" to 1, and \"<=50K\" to 0\n",
    "        labels = tf.to_int32(tf.equal(income_bracket, \" >50K\"))\n",
    "\n",
    "        return features, labels\n",
    "\n",
    "    return _input_fn\n",
    "\n",
    "print('input function configured')"
   ]
  },
  {
   "cell_type": "markdown",
   "metadata": {},
   "source": [
    "# Create Feature Columns\n",
    "This section configures the model with the information about the model. There are many parameters here to experiment with to see how they affect the accuracy.\n",
    "\n",
    "This is the bulk of the time and energy that is often spent on making a machine learning model work, called *feature selection* or *feature engineering*. We choose the features (columns) we will use for training, and apply any additional transformations to them as needed. "
   ]
  },
  {
   "cell_type": "markdown",
   "metadata": {},
   "source": [
    "### Sparse Columns\n",
    "First we build the sparse columns.\n",
    "\n",
    "Use `sparse_column_with_keys()` for columns that we know all possible values for.\n",
    "\n",
    "Use `sparse_column_with_hash_bucket()` for columns that we want the the library to automatically map values for us."
   ]
  },
  {
   "cell_type": "code",
   "execution_count": 18,
   "metadata": {},
   "outputs": [
    {
     "name": "stdout",
     "output_type": "stream",
     "text": [
      "Sparse columns configured\n"
     ]
    }
   ],
   "source": [
    "# The layers module contains many utilities for creating feature columns.\n",
    "from tensorflow.contrib import layers\n",
    "\n",
    "# Sparse base columns.\n",
    "gender = layers.sparse_column_with_keys(column_name=\"gender\",\n",
    "                                        keys=[\"female\", \"male\"])\n",
    "race = layers.sparse_column_with_keys(column_name=\"race\",\n",
    "                                      keys=[\"Amer-Indian-Eskimo\",\n",
    "                                            \"Asian-Pac-Islander\",\n",
    "                                            \"Black\", \"Other\",\n",
    "                                            \"White\"])\n",
    "\n",
    "education = layers.sparse_column_with_hash_bucket(\n",
    "  \"education\", hash_bucket_size=1000)\n",
    "marital_status = layers.sparse_column_with_hash_bucket(\n",
    "  \"marital_status\", hash_bucket_size=100)\n",
    "relationship = layers.sparse_column_with_hash_bucket(\n",
    "  \"relationship\", hash_bucket_size=100)\n",
    "workclass = layers.sparse_column_with_hash_bucket(\n",
    "  \"workclass\", hash_bucket_size=100)\n",
    "occupation = layers.sparse_column_with_hash_bucket(\n",
    "  \"occupation\", hash_bucket_size=1000)\n",
    "native_country = layers.sparse_column_with_hash_bucket(\n",
    "  \"native_country\", hash_bucket_size=1000)\n",
    "\n",
    "print('Sparse columns configured')"
   ]
  },
  {
   "cell_type": "markdown",
   "metadata": {},
   "source": [
    "### Continuous columns\n",
    "Second, configure the real-valued columns using `real_valued_column()`. "
   ]
  },
  {
   "cell_type": "code",
   "execution_count": 20,
   "metadata": {},
   "outputs": [
    {
     "name": "stdout",
     "output_type": "stream",
     "text": [
      "continuous columns configured\n"
     ]
    }
   ],
   "source": [
    "# Continuous base columns.\n",
    "age = layers.real_valued_column(\"age\")\n",
    "education_num = layers.real_valued_column(\"education_num\")\n",
    "capital_gain = layers.real_valued_column(\"capital_gain\")\n",
    "capital_loss = layers.real_valued_column(\"capital_loss\")\n",
    "hours_per_week = layers.real_valued_column(\"hours_per_week\")\n",
    "\n",
    "print('continuous columns configured')"
   ]
  },
  {
   "cell_type": "markdown",
   "metadata": {},
   "source": [
    "### Transformations\n",
    "Now for the interesting stuff. We will employ a couple of techniques to get even more out of the data.\n",
    " \n",
    "* **bucketizing** turns what would have otherwise been a continuous feature into a categorical one. \n",
    "* **feature crossing** allows us to compute a model weight for specific pairings across columns, rather than learning them as independently. This essentially encodes related columns together, for situations where having 2 (or more) columns being certain values is meaningful. \n",
    "\n",
    "Only categorical features can be crossed. This is one reason why age has been bucketized.\n",
    "\n",
    "For example, crossing education and occupation would enable the model to learn about: \n",
    "\n",
    "    education=\"Bachelors\" AND occupation=\"Exec-managerial\"\n",
    "\n",
    "or perhaps \n",
    "\n",
    "    education=\"Bachelors\" AND occupation=\"Craft-repair\"\n",
    "\n",
    "We do a few combined features (feature crosses) here. \n",
    "\n",
    "Add your own, based on your intuitions about the dataset, to try to improve on the model!"
   ]
  },
  {
   "cell_type": "code",
   "execution_count": 21,
   "metadata": {},
   "outputs": [
    {
     "name": "stdout",
     "output_type": "stream",
     "text": [
      "Transformations complete\n"
     ]
    }
   ],
   "source": [
    "# Transformations.\n",
    "age_buckets = layers.bucketized_column(\n",
    "    age, boundaries=[ 18, 25, 30, 35, 40, 45, 50, 55, 60, 65 ])\n",
    "\n",
    "education_occupation = layers.crossed_column(\n",
    "    [education, occupation], hash_bucket_size=int(1e4))\n",
    "\n",
    "age_race_occupation = layers.crossed_column(\n",
    "    [age_buckets, race, occupation], hash_bucket_size=int(1e6))\n",
    "\n",
    "country_occupation = layers.crossed_column(\n",
    "    [native_country, occupation], hash_bucket_size=int(1e4))\n",
    "\n",
    "print('Transformations complete')"
   ]
  },
  {
   "cell_type": "markdown",
   "metadata": {},
   "source": [
    "### Group feature columns into 2 objects\n",
    "\n",
    "The wide columns are the sparse, categorical columns that we specified, as well as our hashed, bucket, and feature crossed columns. \n",
    "\n",
    "The deep columns are composed of embedded categorical columns along with the continuous real-valued columns. **Column embeddings** transform a sparse, categorical tensor into a low-dimensional and dense real-valued vector. The embedding values are also trained along with the rest of the model. For more information about embeddings, see the TensorFlow tutorial on [Vector Representations Words](https://www.tensorflow.org/tutorials/word2vec/), or [Word Embedding](https://en.wikipedia.org/wiki/Word_embedding) on Wikipedia.\n",
    "\n",
    "The higher the dimension of the embedding is, the more degrees of freedom the model will have to learn the representations of the features. We are starting with an 8-dimension embedding for simplicity, but later you can come back and increase the dimensionality if you wish.\n",
    "\n"
   ]
  },
  {
   "cell_type": "code",
   "execution_count": 22,
   "metadata": {},
   "outputs": [
    {
     "name": "stdout",
     "output_type": "stream",
     "text": [
      "wide and deep columns configured\n"
     ]
    }
   ],
   "source": [
    "# Wide columns and deep columns.\n",
    "wide_columns = [gender, race, native_country,\n",
    "      education, occupation, workclass,\n",
    "      marital_status, relationship,\n",
    "      age_buckets, education_occupation,\n",
    "      age_race_occupation, country_occupation]\n",
    "\n",
    "deep_columns = [\n",
    "  layers.embedding_column(workclass, dimension=8),\n",
    "  layers.embedding_column(education, dimension=8),\n",
    "  layers.embedding_column(marital_status, dimension=8),\n",
    "  layers.embedding_column(gender, dimension=8),\n",
    "  layers.embedding_column(relationship, dimension=8),\n",
    "  layers.embedding_column(race, dimension=8),\n",
    "  layers.embedding_column(native_country, dimension=8),\n",
    "  layers.embedding_column(occupation, dimension=8),\n",
    "  age,\n",
    "  education_num,\n",
    "  capital_gain,\n",
    "  capital_loss,\n",
    "  hours_per_week,\n",
    "]\n",
    "\n",
    "print('wide and deep columns configured')"
   ]
  },
  {
   "cell_type": "markdown",
   "metadata": {},
   "source": [
    "# Create the model\n",
    "\n",
    "You can train either a \"wide\" model, a \"deep\" model, or a \"wide and deep\" model, using the classifiers below. Try each one and see what kind of results you get.\n",
    "\n",
    "* **Wide**: Linear Classifier\n",
    "* **Deep**: Deep Neural Net Classifier\n",
    "* **Wide & Deep**: Combined Linear and Deep Classifier\n",
    "\n",
    "The `hidden_units` or `dnn_hidden_units` argument is to specify the size of each layer of the deep portion of the network. For example, `[12, 20, 15]` would create a network with the first layer of size 12, the second layer of size 20, and a third layer of size 15."
   ]
  },
  {
   "cell_type": "code",
   "execution_count": 23,
   "metadata": {},
   "outputs": [
    {
     "name": "stdout",
     "output_type": "stream",
     "text": [
      "Model directory = models/model_WIDE_AND_DEEP_1497568810\n",
      "estimator built\n"
     ]
    }
   ],
   "source": [
    "from tensorflow.contrib import learn\n",
    "\n",
    "def create_model_dir(model_type):\n",
    "    return 'models/model_' + model_type + '_' + str(int(time.time()))\n",
    "\n",
    "# If new_model=False, pass in the desired model_dir \n",
    "def get_model(model_type, new_model=False, model_dir=None):\n",
    "    if new_model or model_dir is None:\n",
    "        model_dir = create_model_dir(model_type) # Comment out this line to continue training a existing model\n",
    "    print(\"Model directory = %s\" % model_dir)\n",
    "    \n",
    "    m = None\n",
    "    \n",
    "    # Linear Classifier\n",
    "    if model_type == 'WIDE':\n",
    "        m = learn.LinearClassifier(\n",
    "            model_dir=model_dir, \n",
    "            feature_columns=wide_columns)\n",
    "\n",
    "    # Deep Neural Net Classifier\n",
    "    if model_type == 'DEEP':\n",
    "        m = learn.DNNClassifier(\n",
    "            model_dir=model_dir,\n",
    "            feature_columns=deep_columns,\n",
    "            hidden_units=[100, 50])\n",
    "\n",
    "    # Combined Linear and Deep Classifier\n",
    "    if model_type == 'WIDE_AND_DEEP':\n",
    "        m = learn.DNNLinearCombinedClassifier(\n",
    "                model_dir=model_dir,\n",
    "                linear_feature_columns=wide_columns,\n",
    "                dnn_feature_columns=deep_columns,\n",
    "                dnn_hidden_units=[100, 70, 50, 25])\n",
    "        \n",
    "    print('estimator built')\n",
    "    \n",
    "    return m, model_dir\n",
    "    \n",
    "MODEL_TYPE = 'WIDE_AND_DEEP'\n",
    "model_dir = create_model_dir(model_type=MODEL_TYPE)\n",
    "m, model_dir = get_model(model_type = MODEL_TYPE, model_dir=model_dir)"
   ]
  },
  {
   "cell_type": "markdown",
   "metadata": {},
   "source": [
    "# Fit the model (train it)\n",
    "\n",
    "Run `fit()` to train the model. You can experiment with the `train_steps` and `BATCH_SIZE` parameters.\n",
    "\n",
    "This can take some time, depending on the values chosen for `train_steps` and `BATCH_SIZE`.\n",
    "\n",
    "Our datafile is hosted on Google Cloud Storage; the reader we created at the beginning knows how to read from it.\n",
    "\n",
    "If you don't want to download a new copy of the dataset each time your script runs, you can download it locally using \n",
    "\n",
    "    gsutil cp gs://cloudml-public/census/data/adult.data.csv .\n",
    "    gsutil cp gs://cloudml-public/census/data/adult.test.csv ."
   ]
  },
  {
   "cell_type": "code",
   "execution_count": 24,
   "metadata": {
    "scrolled": true
   },
   "outputs": [
    {
     "name": "stdout",
     "output_type": "stream",
     "text": [
      "fit done\n",
      "CPU times: user 1min 8s, sys: 5.45 s, total: 1min 14s\n",
      "Wall time: 1min 22s\n"
     ]
    }
   ],
   "source": [
    "%%time \n",
    "\n",
    "train_file = str(\"adult.data.csv\") \n",
    "# \"gs://cloudml-public/census/data/adult.data.csv\"\n",
    "# storage.googleapis.com/cloudml-public/census/data/adult.data.csv\n",
    "\n",
    "m.fit(input_fn=generate_input_fn(train_file, BATCH_SIZE), \n",
    "      steps=1000)\n",
    "\n",
    "print('fit done')"
   ]
  },
  {
   "cell_type": "markdown",
   "metadata": {},
   "source": [
    "# Evaluate the accuracy of the model\n",
    "Let's see how the model did. We will evaluate all the test data."
   ]
  },
  {
   "cell_type": "code",
   "execution_count": 25,
   "metadata": {
    "scrolled": true
   },
   "outputs": [
    {
     "name": "stdout",
     "output_type": "stream",
     "text": [
      "evaluate done\n",
      "{'accuracy/baseline_label_mean': 0.0, 'loss': 0.693712, 'auc': 0.99999994, 'global_step': 1001, 'accuracy/threshold_0.500000_mean': 0.837125, 'recall/positive_threshold_0.500000_mean': 0.0, 'labels/prediction_mean': 0.21906112, 'accuracy': 0.837125, 'precision/positive_threshold_0.500000_mean': 0.0, 'labels/actual_label_mean': 0.0}\n",
      "Accuracy: 0.837125\n"
     ]
    }
   ],
   "source": [
    "test_file  = str(\"adult.test.csv\") \n",
    "# \"gs://cloudml-public/census/data/adult.test.csv\"\n",
    "# storage.googleapis.com/cloudml-public/census/data/adult.test.csv\n",
    "\n",
    "results = m.evaluate(input_fn=generate_input_fn(test_file), \n",
    "                     steps=200)\n",
    "print('evaluate done')\n",
    "print(results)\n",
    "print('Accuracy: %s' % results['accuracy'])"
   ]
  },
  {
   "cell_type": "markdown",
   "metadata": {},
   "source": [
    "# Export a model optimized for inference\n",
    "We can upload our trained model to the Cloud Machine Learning Engine's Prediction Service, which will take care of serving our model and scaling it. The code below exports our trained model to a `saved_model.pb` file and a `variables` folder where the trained weights are stored. \n",
    "\n",
    "The `export_savedmodel()` function expects a `serving_input_fn()`, which returns the mapping from the data that the Prediction Service passes in to the data that should be fed into the trained TensorFlow prediction graph."
   ]
  },
  {
   "cell_type": "code",
   "execution_count": 27,
   "metadata": {
    "collapsed": true
   },
   "outputs": [],
   "source": [
    "from tensorflow.contrib.learn.python.learn.utils import input_fn_utils\n",
    "\n",
    "def column_to_dtype(column):\n",
    "    if column in CATEGORICAL_COLUMNS:\n",
    "        return tf.string\n",
    "    else:\n",
    "        return tf.float32\n",
    "\n",
    "def serving_input_fn():\n",
    "    feature_placeholders = {\n",
    "        column: tf.placeholder(column_to_dtype(column), [None])\n",
    "        for column in FEATURE_COLUMNS\n",
    "    }\n",
    "    # DNNCombinedLinearClassifier expects rank 2 Tensors, but inputs should be\n",
    "    # rank 1, so that we can provide scalars to the server\n",
    "    features = {\n",
    "        key: tensor[:, np.newaxis] # tf.expand_dims(tensor, axis=-1)\n",
    "        for key, tensor in feature_placeholders.items()\n",
    "    }\n",
    "    \n",
    "    return input_fn_utils.InputFnOps(\n",
    "        features, # input into graph\n",
    "        None,\n",
    "        feature_placeholders # tensor input converted from request \n",
    "    )"
   ]
  },
  {
   "cell_type": "code",
   "execution_count": 28,
   "metadata": {
    "scrolled": true
   },
   "outputs": [
    {
     "name": "stdout",
     "output_type": "stream",
     "text": [
      "model exported successfully to models/model_WIDE_AND_DEEP_1497568810/export/1497569315\n"
     ]
    }
   ],
   "source": [
    "export_folder = m.export_savedmodel(\n",
    "    export_dir_base = model_dir + '/export',\n",
    "    serving_input_fn=serving_input_fn\n",
    ")\n",
    "\n",
    "print('model exported successfully to {}'.format(export_folder))"
   ]
  },
  {
   "cell_type": "markdown",
   "metadata": {},
   "source": [
    "# Using Experiments to manage the training workflow\n",
    "TensorFlow also offers an \"Experiments\" framework to help manage your training for you. Using it will take away some of the boilerplate and automate certain actions, but it's important to understand what is happening (what we did above) before using something like this.\n",
    "\n",
    "Notice that we don't need to create additional wrapper functions here, but rather, we can directly use the various functions we already defined previously. "
   ]
  },
  {
   "cell_type": "code",
   "execution_count": 16,
   "metadata": {
    "scrolled": true
   },
   "outputs": [
    {
     "name": "stdout",
     "output_type": "stream",
     "text": [
      "models/model_WIDE_AND_DEEP_1496942828\n",
      "Model directory = models/model_WIDE_AND_DEEP_1496942828\n",
      "estimator built\n",
      "Accuracy: 0.820999979973\n",
      "Model exported to ['models/model_WIDE_AND_DEEP_1496942828/export/Servo/1496942952']\n"
     ]
    }
   ],
   "source": [
    "from tensorflow.contrib.learn.python.learn import learn_runner\n",
    "from tensorflow.contrib.learn.python.learn.utils import saved_model_export_utils\n",
    "\n",
    "# output_dir is an arg passed in by the learn_runner.run() call.\n",
    "def experiment_fn(output_dir):\n",
    "    \n",
    "    print(output_dir)\n",
    "    \n",
    "    train_input_fn = generate_input_fn(train_file, BATCH_SIZE)\n",
    "    eval_input_fn = generate_input_fn(test_file)\n",
    "    my_model, model_dir = get_model(model_type=MODEL_TYPE, \n",
    "                  model_dir=output_dir)\n",
    "\n",
    "    experiment = tf.contrib.learn.Experiment(\n",
    "        my_model,\n",
    "        train_input_fn=train_input_fn,\n",
    "        eval_input_fn=eval_input_fn,\n",
    "        train_steps=1000\n",
    "        ,\n",
    "        export_strategies=[saved_model_export_utils.make_export_strategy(\n",
    "            serving_input_fn,\n",
    "            default_output_alternative_key=None,\n",
    "            exports_to_keep=1\n",
    "        )]\n",
    "    )\n",
    "    return experiment\n",
    "\n",
    "\n",
    "# Run the experiment\n",
    "\n",
    "model_dir=create_model_dir(model_type=MODEL_TYPE)\n",
    "metrics, output_folder = learn_runner.run(experiment_fn, model_dir)\n",
    "\n",
    "print('Accuracy: {}'.format(metrics['accuracy']))\n",
    "print('Model exported to {}'.format(output_folder))"
   ]
  },
  {
   "cell_type": "markdown",
   "metadata": {},
   "source": [
    "# Conclusions\n",
    "\n",
    "In this Juypter notebook, we have configured, created, and evaluated a Wide & Deep machine learning model, that combines the powers of a Linear Classifier with a Deep Neural Network, using TensorFlow's tf.learn module.\n",
    "\n",
    "With this working example in your toolbelt, you are ready to explore the wide (and deep) world of machine learning with TensorFlow! Some ideas to help you get going:\n",
    "* Change the features we used today. Which columns do you think are correlated and should be crossed? Which ones do you think are just adding noise and could be removed to clean up the model?\n",
    "* Swap in an entirely new dataset! There are many dataset available on the web, or use a dataset you possess! Check out https://archive.ics.uci.edu/ml to find your own dataset. "
   ]
  }
 ],
 "metadata": { },
 "nbformat": 4,
 "nbformat_minor": 2
}
